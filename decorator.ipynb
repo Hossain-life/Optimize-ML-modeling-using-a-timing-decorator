{
 "cells": [
  {
   "cell_type": "code",
   "execution_count": 110,
   "metadata": {},
   "outputs": [],
   "source": [
    "def timing(func):\n",
    "    def wrap(*args, **kw):\n",
    "        ts = time()\n",
    "        result = func(*args,**kw)\n",
    "        te = time()\n",
    "        tdelta = round(1000*(te-ts),3)\n",
    "        print (f\"Function'{func.__name__}' took {tdelta} milliseconds to run\")\n",
    "        return result\n",
    "    return wrap"
   ]
  },
  {
   "cell_type": "markdown",
   "metadata": {},
   "source": [
    "Code above for writing a timing decorator to measure the function execution time."
   ]
  },
  {
   "cell_type": "code",
   "execution_count": 114,
   "metadata": {},
   "outputs": [],
   "source": [
    "from time import time"
   ]
  },
  {
   "cell_type": "markdown",
   "metadata": {},
   "source": [
    "finding the length of a list"
   ]
  },
  {
   "cell_type": "code",
   "execution_count": 115,
   "metadata": {},
   "outputs": [],
   "source": [
    "def list_length(a):\n",
    "    if isinstance(a,list):\n",
    "       \n",
    "        s = len(a)\n",
    "        return s\n",
    "    else:\n",
    "        print(\"Argument is not a list\")"
   ]
  },
  {
   "cell_type": "code",
   "execution_count": 116,
   "metadata": {},
   "outputs": [
    {
     "data": {
      "text/plain": [
       "3"
      ]
     },
     "execution_count": 116,
     "metadata": {},
     "output_type": "execute_result"
    }
   ],
   "source": [
    "list_length([1,2,3])"
   ]
  },
  {
   "cell_type": "markdown",
   "metadata": {},
   "source": [
    "Below returns the execution time."
   ]
  },
  {
   "cell_type": "code",
   "execution_count": 117,
   "metadata": {},
   "outputs": [],
   "source": [
    "def time_return(func):\n",
    "    def wrap(*args, **kw):\n",
    "        ts = time_return()\n",
    "        result = func(*args,**kw)\n",
    "        te = time_return()\n",
    "        tdelta = round(1000*(te-ts),3)\n",
    "        return tdelta\n",
    "    return wrap"
   ]
  },
  {
   "cell_type": "markdown",
   "metadata": {},
   "source": [
    "Another demo function is wrapped with it."
   ]
  },
  {
   "cell_type": "code",
   "execution_count": 118,
   "metadata": {},
   "outputs": [],
   "source": [
    "def numpy_matmul(a,b):\n",
    "    return (np.matmul(a,b))"
   ]
  },
  {
   "cell_type": "markdown",
   "metadata": {},
   "source": [
    "It measures the time taken to compute matrix multiplication from two given numpy arrays"
   ]
  },
  {
   "cell_type": "code",
   "execution_count": 119,
   "metadata": {},
   "outputs": [],
   "source": [
    "import numpy as np"
   ]
  },
  {
   "cell_type": "code",
   "execution_count": 120,
   "metadata": {},
   "outputs": [
    {
     "data": {
      "text/plain": [
       "array([[109.84018722, 110.34879717, 110.39811821, ..., 110.11242903,\n",
       "        111.23959322, 106.56683484],\n",
       "       [111.04866174, 109.19262039, 110.0000805 , ..., 109.32599376,\n",
       "        111.53905525, 111.18451839],\n",
       "       [120.91745141, 117.65361608, 115.53177138, ..., 115.82627949,\n",
       "        117.70448233, 112.81124074],\n",
       "       ...,\n",
       "       [117.82207977, 115.84633184, 114.82149431, ..., 117.0070878 ,\n",
       "        119.86107571, 116.3365266 ],\n",
       "       [115.98797081, 117.21232913, 115.8140629 , ..., 117.21438358,\n",
       "        113.4999843 , 111.97462128],\n",
       "       [117.51766432, 115.9386776 , 112.56456028, ..., 116.93622677,\n",
       "        116.29863434, 109.0427744 ]])"
      ]
     },
     "execution_count": 120,
     "metadata": {},
     "output_type": "execute_result"
    }
   ],
   "source": [
    "SIZE = 1000\n",
    "a = np.random.beta(1.0,2.0,size=(SIZE,SIZE))\n",
    "b = np.random.beta(1.0,2.0,size=(SIZE,SIZE))\n",
    "numpy_matmul(a,b)"
   ]
  },
  {
   "cell_type": "markdown",
   "metadata": {},
   "source": [
    "Writing a Compact loop with the function and observe how the execution time varies with input size"
   ]
  },
  {
   "cell_type": "code",
   "execution_count": 121,
   "metadata": {},
   "outputs": [
    {
     "name": "stdout",
     "output_type": "stream",
     "text": [
      "Matrix multiplication of size (500*500) took [[62.62116699 62.20609665 62.64494876 ... 59.07479976 65.66128059\n",
      "  58.15637557]\n",
      " [58.51207163 55.71378578 56.27385853 ... 54.26832355 59.22393002\n",
      "  51.7190476 ]\n",
      " [58.90460039 56.35124102 56.03897249 ... 55.58932399 57.32725265\n",
      "  54.92902205]\n",
      " ...\n",
      " [56.33790589 55.3725742  52.12009371 ... 54.12916495 57.13531288\n",
      "  55.51367325]\n",
      " [58.68530687 60.4510826  54.36363701 ... 54.66505056 59.92778795\n",
      "  54.99679603]\n",
      " [54.93904476 56.23726821 54.01816257 ... 56.30726878 58.26981902\n",
      "  54.87327442]] milliseconds\n",
      "Matrix multiplication of size (1000*1000) took [[111.4284468  113.19652349 106.33376835 ... 102.37185797 111.222868\n",
      "  112.76846432]\n",
      " [109.9981571  113.86558876 109.08673955 ... 104.92486304 109.67376666\n",
      "  114.59389468]\n",
      " [116.88584377 121.85105552 117.4370306  ... 112.53977056 117.947104\n",
      "  120.39039465]\n",
      " ...\n",
      " [108.13587711 114.90816128 107.14900303 ... 103.67662783 109.86523304\n",
      "  115.13847916]\n",
      " [117.83320597 117.33287843 113.52787267 ... 110.09713448 115.04016279\n",
      "  120.25992164]\n",
      " [109.380818   112.07476654 107.80900532 ... 101.68053413 109.00991624\n",
      "  115.4902142 ]] milliseconds\n",
      "Matrix multiplication of size (2000*2000) took [[217.20852617 230.06237489 217.69302427 ... 226.34577849 221.7778166\n",
      "  215.32979041]\n",
      " [217.94413746 224.85110677 213.38879271 ... 226.52148147 216.04425532\n",
      "  210.16460684]\n",
      " [223.97436758 231.2213268  220.01571231 ... 225.17432578 218.0884084\n",
      "  218.1022349 ]\n",
      " ...\n",
      " [219.72513923 228.17509202 220.14526835 ... 227.74845313 219.36664007\n",
      "  216.98784217]\n",
      " [220.07856805 230.14418777 218.80152868 ... 223.57024753 216.47593504\n",
      "  214.19722582]\n",
      " [214.98234283 231.43440267 222.50454336 ... 226.9344772  218.91585625\n",
      "  211.97219754]] milliseconds\n",
      "Matrix multiplication of size (3000*3000) took [[332.93972453 335.42040791 336.44336972 ... 336.88086207 334.15054903\n",
      "  333.5231376 ]\n",
      " [321.39275274 331.67154014 331.3083828  ... 327.17716173 332.49177238\n",
      "  329.43170507]\n",
      " [323.84388489 321.53266551 329.88323151 ... 321.02338693 327.88847905\n",
      "  331.44490818]\n",
      " ...\n",
      " [327.43516464 335.85404702 334.69973198 ... 328.86483956 338.67268116\n",
      "  335.61982558]\n",
      " [323.58694776 336.51795514 332.31635784 ... 330.59756749 332.71001515\n",
      "  339.70376503]\n",
      " [339.1172958  348.05573213 345.10153901 ... 339.00907014 344.11261991\n",
      "  347.54343584]] milliseconds\n",
      "Matrix multiplication of size (4000*4000) took [[450.59125578 440.21732016 441.00110807 ... 442.00156298 436.08443874\n",
      "  435.72832604]\n",
      " [443.47817166 438.53829575 438.50680851 ... 440.86757763 433.40671158\n",
      "  434.89891552]\n",
      " [441.94302212 450.14722452 446.81139989 ... 436.92339125 444.49183652\n",
      "  444.75088746]\n",
      " ...\n",
      " [444.43136018 430.10219324 435.57030359 ... 434.80249148 427.40560347\n",
      "  433.07091023]\n",
      " [438.08205951 439.94666209 431.41454223 ... 437.8225231  431.687347\n",
      "  433.51737117]\n",
      " [443.6110045  439.84168241 432.09547807 ... 439.43383194 431.88609883\n",
      "  431.69375733]] milliseconds\n",
      "Matrix multiplication of size (5000*5000) took [[570.68940796 564.35376514 550.65174883 ... 556.2688993  560.73490392\n",
      "  551.24869124]\n",
      " [577.07866469 567.3552714  560.54368819 ... 562.47895707 565.79872257\n",
      "  551.99675266]\n",
      " [561.5132936  554.67134756 544.84909929 ... 549.96781246 561.48136406\n",
      "  547.89083278]\n",
      " ...\n",
      " [565.16613046 554.13797221 538.70682819 ... 554.80914089 557.57813094\n",
      "  556.70470421]\n",
      " [572.43453276 560.72185423 547.28066925 ... 552.87204573 559.36674239\n",
      "  548.89606908]\n",
      " [570.20059878 566.33031495 557.3060483  ... 559.2937973  564.29448675\n",
      "  556.70602417]] milliseconds\n"
     ]
    }
   ],
   "source": [
    "SIZE = [500,1000,2000,3000,4000,5000]\n",
    "for s in SIZE:\n",
    "    a = np.random.beta(1.0,2.0,size=(s,s))\n",
    "    b = np.random.beta(1.0,2.0,size=(s,s))\n",
    "    t = numpy_matmul(a,b)\n",
    "    print(f\"Matrix multiplication of size ({s}*{s}) took {t} milliseconds\")\n"
   ]
  },
  {
   "cell_type": "markdown",
   "metadata": {},
   "source": [
    "Now, I will add ML estimator(from Scikit-learn) into the mix. As we are enthusiastic about both the execution speed and the performance of Machine Learning,I will return both the time-delta and the ML metric in my case. In this code, I will return a tuple: return (tdelta,result)"
   ]
  },
  {
   "cell_type": "code",
   "execution_count": 122,
   "metadata": {},
   "outputs": [],
   "source": [
    "import functools\n",
    "from functools import wraps"
   ]
  },
  {
   "cell_type": "code",
   "execution_count": 128,
   "metadata": {},
   "outputs": [],
   "source": [
    "from math import log"
   ]
  },
  {
   "cell_type": "code",
   "execution_count": 139,
   "metadata": {},
   "outputs": [],
   "source": [
    "def time_estimator(f):\n",
    "    @wraps(f)\n",
    "    def wrap(*args, **kw):\n",
    "        tstart = time()\n",
    "        result = f(*args, **kw)\n",
    "        tend = time()\n",
    "        tdelta = round(1000*(tend-tstart),3)\n",
    "        return (tdelta,result)\n",
    "    return wrap\n",
    "\n"
   ]
  },
  {
   "cell_type": "markdown",
   "metadata": {},
   "source": [
    "This function will decorate a scoring function that will fit the given data and return the accuracy score\n",
    "(on a test/validation set)"
   ]
  },
  {
   "cell_type": "code",
   "execution_count": 140,
   "metadata": {},
   "outputs": [],
   "source": [
    "from sklearn.model_selection import train_test_split"
   ]
  },
  {
   "cell_type": "code",
   "execution_count": 141,
   "metadata": {},
   "outputs": [],
   "source": [
    "@time_estimator\n",
    "def classifier_accuracy(estimator,x,y):\n",
    "    X_train,X_test,y_train,y_test = train_test_split(x,y,test_size = 0.33, random_state=42)\n",
    "    estimator.fit(X_train,y_train)\n",
    "    score = estimator.score(X_test,y_test)\n",
    "    return round(score,3)"
   ]
  },
  {
   "cell_type": "markdown",
   "metadata": {},
   "source": [
    "In this code, I will make some synthethic data and initialize a logistic regression estimator."
   ]
  },
  {
   "cell_type": "code",
   "execution_count": 142,
   "metadata": {},
   "outputs": [],
   "source": [
    "from sklearn.datasets import make_classification\n",
    "from sklearn.linear_model import LogisticRegressionCV\n",
    "data = make_classification(n_samples=1000,n_features=20,n_informative=20,n_redundant=0,flip_y=0.05,class_sep=1.5)\n",
    "X,y = data[0],data[1]\n",
    "log_model = LogisticRegressionCV()"
   ]
  },
  {
   "cell_type": "markdown",
   "metadata": {},
   "source": [
    "Running the classifier_accuracy function, I get both the execution time and the accuracy score"
   ]
  },
  {
   "cell_type": "code",
   "execution_count": 143,
   "metadata": {},
   "outputs": [
    {
     "data": {
      "text/plain": [
       "(140.265, 0.909)"
      ]
     },
     "execution_count": 143,
     "metadata": {},
     "output_type": "execute_result"
    }
   ],
   "source": [
    "classifier_accuracy(log_model,X,y)"
   ]
  },
  {
   "cell_type": "markdown",
   "metadata": {},
   "source": [
    "Modify the data and record execution time"
   ]
  },
  {
   "cell_type": "code",
   "execution_count": 145,
   "metadata": {},
   "outputs": [],
   "source": [
    "SIZE = [1000+500*i for i in range(21)]\n",
    "log_model = LogisticRegressionCV()\n",
    "model_time, model_acc = [],[]\n",
    "for s in SIZE:\n",
    "    data = make_classification(n_samples=s,n_features=20,n_informative=20,n_redundant=0,flip_y=0.05,class_sep=1.5)\n",
    "    x,y = data[0],data[1]\n",
    "    m_time, m_acc = classifier_accuracy(log_model,x,y)\n",
    "    model_time.append(m_time)\n",
    "    model_acc.append(m_acc)"
   ]
  },
  {
   "cell_type": "markdown",
   "metadata": {},
   "source": [
    "Play with the estimator to optimize the cost-performance"
   ]
  },
  {
   "cell_type": "code",
   "execution_count": 147,
   "metadata": {},
   "outputs": [],
   "source": [
    "from sklearn.ensemble import RandomForestClassifier"
   ]
  },
  {
   "cell_type": "code",
   "execution_count": 152,
   "metadata": {},
   "outputs": [],
   "source": [
    "num_trees = [5*x for x in range(1,21)]\n",
    "model_time, model_acc = [],[]\n",
    "data = make_classification(n_samples=1000,n_features=20,n_informative=20,n_redundant=0,flip_y=0.05,class_sep=1.0)\n",
    "x,y = data[0],data[1]\n",
    "for n in num_trees:\n",
    "    rf_model = RandomForestClassifier(n_estimators=n)\n",
    "    m_time, m_acc = classifier_accuracy(rf_model,x,y)\n",
    "    model_time.append(1/m_time)\n",
    "    model_acc.append(m_acc)"
   ]
  },
  {
   "cell_type": "code",
   "execution_count": 157,
   "metadata": {},
   "outputs": [],
   "source": [
    "import matplotlib.pyplot as plt\n",
    "model_opt = model_acc + model_time\n"
   ]
  },
  {
   "cell_type": "code",
   "execution_count": 160,
   "metadata": {},
   "outputs": [
    {
     "data": {
      "text/plain": [
       "<function matplotlib.pyplot.show(close=None, block=None)>"
      ]
     },
     "execution_count": 160,
     "metadata": {},
     "output_type": "execute_result"
    },
    {
     "data": {
      "image/png": "[encoded data removed]",
      "text/plain": [
       "<Figure size 432x288 with 1 Axes>"
      ]
     },
     "metadata": {
      "needs_background": "light"
     },
     "output_type": "display_data"
    }
   ],
   "source": [
    "plt.title('Model Optimization with number of trees')\n",
    "plt.xlabel('Number of trees')\n",
    "plt.plot(model_opt)\n",
    "plt.show"
   ]
  },
  {
   "cell_type": "markdown",
   "metadata": {},
   "source": [
    "I can select 16 treees for this model."
   ]
  }
 ],
 "metadata": {
  "kernelspec": {
   "display_name": "Python 3",
   "language": "python",
   "name": "python3"
  },
  "language_info": {
   "codemirror_mode": {
    "name": "ipython",
    "version": 3
   },
   "file_extension": ".py",
   "mimetype": "text/x-python",
   "name": "python",
   "nbconvert_exporter": "python",
   "pygments_lexer": "ipython3",
   "version": "3.8.5"
  }
 },
 "nbformat": 4,
 "nbformat_minor": 4
}
